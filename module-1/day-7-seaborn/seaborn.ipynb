{
 "cells": [
  {
   "cell_type": "markdown",
   "metadata": {},
   "source": [
    "![seaborn](https://d2h0cx97tjks2p.cloudfront.net/blogs/wp-content/uploads/sites/2/2018/07/seaborn.png) \n",
    "# The good, the bad, the seaborn\n",
    "\n",
    "\n",
    "#### Whats wrong with this data visualization? (hint: so many things)\n",
    "\n",
    "<img src=\"https://pbs.twimg.com/media/DNTFhGaXcAEbrMO.jpg\" width=800>\n",
    "\n",
    "Learning goals:\n",
    "- Create a list of best practices for data visualization\n",
    "- Identify the differences between matplotlib and seaborn\n",
    "- Create a visualization with seaborn, applying best practices"
   ]
  },
  {
   "cell_type": "markdown",
   "metadata": {},
   "source": [
    "## Goal 1: Create a list of best practices for data visualization\n",
    "\n",
    "Documenting best practices:\n",
    "\n",
    "In groups:\n",
    "- Group 1: [article 1](https://www.jackhagley.com/What-s-the-difference-between-an-Infographic-and-a-Data-Visualisation)\n",
    "- Group 2: [article 2](https://thoughtbot.com/blog/analyzing-minards-visualization-of-napoleons-1812-march)\n",
    "- Group 3: [article 3](http://dataremixed.com/2016/04/the-design-of-everyday-visualizations/)\n",
    "- Group 4: [article 4](https://visme.co/blog/data-storytelling-tips/)\n",
    "- Group 5: [article 5](https://www.tableau.com/learn/articles/best-beautiful-data-visualization-examples)\n",
    "- Group 6: [article 6](files/VisualizationsThatReallyWork.pdf)\n",
    "\n",
    "To fill in: [Best practices deck](https://docs.google.com/presentation/d/1EmHXyT_zkuPxFfMTBMjrryXkbmgWNbDq1tgvB0EKI04/edit?usp=sharing) "
   ]
  },
  {
   "cell_type": "markdown",
   "metadata": {},
   "source": [
    "## Goal 2:  Identify differences between seaborn & matplotlib\n",
    "\n",
    "\n",
    "### Two code examples to accomplish the same plot:\n",
    "\n",
    "**Resources:**\n",
    "- [python graph gallery on seaborn](https://python-graph-gallery.com/seaborn/)\n",
    "- [seaborn](https://seaborn.pydata.org/)\n"
   ]
  },
  {
   "cell_type": "code",
   "execution_count": 2,
   "metadata": {},
   "outputs": [],
   "source": [
    "import matplotlib.pyplot as plt\n",
    "import pandas as pd\n",
    "import seaborn as sns\n",
    "%matplotlib inline\n",
    "\n",
    "# Load in data\n",
    "tips = pd.read_csv(\"https://raw.githubusercontent.com/mwaskom/seaborn-data/master/tips.csv\")\n"
   ]
  },
  {
   "cell_type": "code",
   "execution_count": 7,
   "metadata": {},
   "outputs": [
    {
     "data": {
      "image/png": "[encoded data removed]",
      "text/plain": [
       "<Figure size 432x288 with 1 Axes>"
      ]
     },
     "metadata": {
      "needs_background": "light"
     },
     "output_type": "display_data"
    }
   ],
   "source": [
    "# Matplotlib:\n",
    "\n",
    "# Initialize Figure and Axes object\n",
    "fig, ax = plt.subplots()\n",
    "\n",
    "# Create violinplot\n",
    "ax.violinplot(tips[\"total_bill\"], vert=False)\n",
    "\n",
    "# Show the plot\n",
    "plt.show()"
   ]
  },
  {
   "cell_type": "code",
   "execution_count": 8,
   "metadata": {},
   "outputs": [
    {
     "data": {
      "text/plain": [
       "0      16.99\n",
       "1      10.34\n",
       "2      21.01\n",
       "3      23.68\n",
       "4      24.59\n",
       "       ...  \n",
       "239    29.03\n",
       "240    27.18\n",
       "241    22.67\n",
       "242    17.82\n",
       "243    18.78\n",
       "Name: total_bill, Length: 244, dtype: float64"
      ]
     },
     "execution_count": 8,
     "metadata": {},
     "output_type": "execute_result"
    }
   ],
   "source": [
    "tips.total_bill"
   ]
  },
  {
   "cell_type": "code",
   "execution_count": 4,
   "metadata": {},
   "outputs": [
    {
     "data": {
      "image/png": "[encoded data removed]",
      "text/plain": [
       "<Figure size 432x288 with 1 Axes>"
      ]
     },
     "metadata": {
      "needs_background": "light"
     },
     "output_type": "display_data"
    }
   ],
   "source": [
    "# Seaborn:\n",
    "\n",
    "import matplotlib.pyplot as plt\n",
    "import seaborn as sns\n",
    "\n",
    "# Load the data\n",
    "tips = sns.load_dataset(\"tips\")\n",
    "# tips = pd.read_csv(\"https://raw.githubusercontent.com/mwaskom/seaborn-data/master/tips.csv\")\n",
    "\n",
    "# Create violinplot\n",
    "\n",
    "sns.violinplot(x = \"total_bill\", data=tips)\n",
    "\n",
    "# Show the plot\n",
    "plt.show()"
   ]
  },
  {
   "cell_type": "markdown",
   "metadata": {},
   "source": [
    "### In depth comparison:\n",
    "\n",
    "#### Groups 1:3\n",
    "\n",
    "For each plot:\n",
    "- How is the code to create it different from the maplotlib code?\n",
    "- What are the customization options? \n",
    "- What are the top 3 most important customization options to know(with code) ?\n",
    "\n",
    "Group 1 - [histograms](https://python-graph-gallery.com/histogram/)<br>\n",
    "Group 2 - [scatter plot](https://python-graph-gallery.com/scatter-plot/)<br>\n",
    "Group 3 - [boxplot](http://python-graph-gallery.com/boxplot/)<br>\n",
    "\n",
    "#### Groups 4:5\n",
    "- What new vocabulary was introduced in these posts?\n",
    "- What is the benefit of these new options?\n",
    "- What code/options do you need to know? \n",
    "\n",
    "Group 4 - [diverging, sequential, discrete color palattes](https://python-graph-gallery.com/101-make-a-color-palette-with-seaborn/)<br>\n",
    "Group 5 - [seaborn themes](https://python-graph-gallery.com/104-seaborn-themes/) <br>\n",
    "\n",
    "_Time to work:_ 10 minutes <br>\n",
    "_Time to discuss as large group:_ 10 minutes\n",
    "\n",
    "#### Group 6\n",
    "[seaborn themes w matplotlib](https://python-graph-gallery.com/106-seaborn-style-on-matplotlib-plot/) How does this work?"
   ]
  },
  {
   "cell_type": "markdown",
   "metadata": {},
   "source": [
    "## Goal 3: Create a visualization with seaborn, applying best practices\n",
    "\n",
    "[exercise from data world](https://data.world/makeovermonday/2018w37-paying-the-president)\n"
   ]
  },
  {
   "cell_type": "code",
   "execution_count": 9,
   "metadata": {},
   "outputs": [],
   "source": [
    "import pandas as pd\n",
    "df = pd.read_excel('https://query.data.world/s/5qxp2ldwsel3ow2pq5mkvfas2rfaup')# diferent sheet use sheet_name\n"
   ]
  },
  {
   "cell_type": "markdown",
   "metadata": {},
   "source": [
    "## Reflection:\n",
    "\n",
    "- What worked from this training? \n",
    "- What can you apply moving forward?\n",
    "- What's one concept you would like to practice more?"
   ]
  },
  {
   "cell_type": "code",
   "execution_count": 10,
   "metadata": {},
   "outputs": [
    {
     "data": {
      "text/html": [
       "<div>\n",
       "<style scoped>\n",
       "    .dataframe tbody tr th:only-of-type {\n",
       "        vertical-align: middle;\n",
       "    }\n",
       "\n",
       "    .dataframe tbody tr th {\n",
       "        vertical-align: top;\n",
       "    }\n",
       "\n",
       "    .dataframe thead th {\n",
       "        text-align: right;\n",
       "    }\n",
       "</style>\n",
       "<table border=\"1\" class=\"dataframe\">\n",
       "  <thead>\n",
       "    <tr style=\"text-align: right;\">\n",
       "      <th></th>\n",
       "      <th>type</th>\n",
       "      <th>source</th>\n",
       "      <th>date</th>\n",
       "      <th>amount</th>\n",
       "      <th>purpose_scrubbed</th>\n",
       "      <th>property_scrubbed</th>\n",
       "      <th>purpose</th>\n",
       "      <th>property</th>\n",
       "      <th>city</th>\n",
       "      <th>state</th>\n",
       "    </tr>\n",
       "  </thead>\n",
       "  <tbody>\n",
       "    <tr>\n",
       "      <td>0</td>\n",
       "      <td>FEC</td>\n",
       "      <td>Donald J. Trump for President, Inc.</td>\n",
       "      <td>Apr 1, 2016</td>\n",
       "      <td>9000.00</td>\n",
       "      <td>Rent</td>\n",
       "      <td>Trump Plaza LLC</td>\n",
       "      <td>RENT</td>\n",
       "      <td>TRUMP PLAZA LLC</td>\n",
       "      <td>New York</td>\n",
       "      <td>NY</td>\n",
       "    </tr>\n",
       "    <tr>\n",
       "      <td>1</td>\n",
       "      <td>FEC</td>\n",
       "      <td>Donald J. Trump for President, Inc.</td>\n",
       "      <td>Apr 1, 2016</td>\n",
       "      <td>6000.00</td>\n",
       "      <td>Rent</td>\n",
       "      <td>Trump CPS LLC</td>\n",
       "      <td>RENT</td>\n",
       "      <td>TRUMP CPS LLC</td>\n",
       "      <td>New York</td>\n",
       "      <td>NY</td>\n",
       "    </tr>\n",
       "    <tr>\n",
       "      <td>2</td>\n",
       "      <td>FEC</td>\n",
       "      <td>Donald J. Trump for President, Inc.</td>\n",
       "      <td>Apr 1, 2017</td>\n",
       "      <td>39816.67</td>\n",
       "      <td>Rent</td>\n",
       "      <td>Trump Tower Commercial LLC</td>\n",
       "      <td>RENT</td>\n",
       "      <td>TRUMP TOWER COMMERCIAL LLC</td>\n",
       "      <td>Hicksville</td>\n",
       "      <td>NY</td>\n",
       "    </tr>\n",
       "    <tr>\n",
       "      <td>3</td>\n",
       "      <td>FEC</td>\n",
       "      <td>Donald J. Trump for President, Inc.</td>\n",
       "      <td>Apr 1, 2017</td>\n",
       "      <td>1000.00</td>\n",
       "      <td>Rent</td>\n",
       "      <td>Trump Restaurants LLC</td>\n",
       "      <td>RENT</td>\n",
       "      <td>TRUMP RESTAURANTS LLC</td>\n",
       "      <td>New York</td>\n",
       "      <td>NY</td>\n",
       "    </tr>\n",
       "    <tr>\n",
       "      <td>4</td>\n",
       "      <td>government</td>\n",
       "      <td>Department of Defense</td>\n",
       "      <td>Apr 10, 2017</td>\n",
       "      <td>1422.00</td>\n",
       "      <td>Lodging</td>\n",
       "      <td>Trump Hotel Panama</td>\n",
       "      <td>Hotels-Lodging</td>\n",
       "      <td>Trump International Hotel &amp; Tower Panama</td>\n",
       "      <td>Panama City</td>\n",
       "      <td>Panama</td>\n",
       "    </tr>\n",
       "  </tbody>\n",
       "</table>\n",
       "</div>"
      ],
      "text/plain": [
       "         type                               source          date    amount  \\\n",
       "0         FEC  Donald J. Trump for President, Inc.   Apr 1, 2016   9000.00   \n",
       "1         FEC  Donald J. Trump for President, Inc.   Apr 1, 2016   6000.00   \n",
       "2         FEC  Donald J. Trump for President, Inc.   Apr 1, 2017  39816.67   \n",
       "3         FEC  Donald J. Trump for President, Inc.   Apr 1, 2017   1000.00   \n",
       "4  government                Department of Defense  Apr 10, 2017   1422.00   \n",
       "\n",
       "  purpose_scrubbed           property_scrubbed         purpose  \\\n",
       "0             Rent             Trump Plaza LLC            RENT   \n",
       "1             Rent               Trump CPS LLC            RENT   \n",
       "2             Rent  Trump Tower Commercial LLC            RENT   \n",
       "3             Rent       Trump Restaurants LLC            RENT   \n",
       "4          Lodging          Trump Hotel Panama  Hotels-Lodging   \n",
       "\n",
       "                                   property         city   state  \n",
       "0                           TRUMP PLAZA LLC     New York      NY  \n",
       "1                             TRUMP CPS LLC     New York      NY  \n",
       "2                TRUMP TOWER COMMERCIAL LLC   Hicksville      NY  \n",
       "3                     TRUMP RESTAURANTS LLC     New York      NY  \n",
       "4  Trump International Hotel & Tower Panama  Panama City  Panama  "
      ]
     },
     "execution_count": 10,
     "metadata": {},
     "output_type": "execute_result"
    }
   ],
   "source": [
    "df.head()"
   ]
  },
  {
   "cell_type": "markdown",
   "metadata": {},
   "source": [
    "#### For extra fun:\n",
    "[visualization challenges](http://www.storytellingwithdata.com/blog/2019/3/1/swdchallenge-visualize-this-data)\n",
    "\n",
    "[seaborn cheatsheet](https://s3.amazonaws.com/assets.datacamp.com/blog_assets/Python_Seaborn_Cheat_Sheet.pdf)"
   ]
  },
  {
   "cell_type": "code",
   "execution_count": 16,
   "metadata": {},
   "outputs": [],
   "source": [
    "df_wo_travel = df.loc[df.purpose_scrubbed != 'Travel']"
   ]
  },
  {
   "cell_type": "code",
   "execution_count": 20,
   "metadata": {},
   "outputs": [
    {
     "data": {
      "text/plain": [
       "<matplotlib.axes._subplots.AxesSubplot at 0x1a2607f2b0>"
      ]
     },
     "execution_count": 20,
     "metadata": {},
     "output_type": "execute_result"
    },
    {
     "data": {
      "image/png": "[encoded data removed]",
      "text/plain": [
       "<Figure size 720x432 with 1 Axes>"
      ]
     },
     "metadata": {
      "needs_background": "light"
     },
     "output_type": "display_data"
    }
   ],
   "source": [
    "plt.figure(figsize=(10, 6))\n",
    "sns.boxplot(x='purpose_scrubbed' , y='amount' , data=df_wo_travel, color='rebeccapurple')\n",
    "\n",
    "\n"
   ]
  },
  {
   "cell_type": "code",
   "execution_count": 21,
   "metadata": {},
   "outputs": [
    {
     "ename": "TypeError",
     "evalue": "ufunc 'isnan' not supported for the input types, and the inputs could not be safely coerced to any supported types according to the casting rule ''safe''",
     "output_type": "error",
     "traceback": [
      "\u001b[0;31m---------------------------------------------------------------------------\u001b[0m",
      "\u001b[0;31mTypeError\u001b[0m                                 Traceback (most recent call last)",
      "\u001b[0;32m<ipython-input-21-dd615202aa75>\u001b[0m in \u001b[0;36m<module>\u001b[0;34m\u001b[0m\n\u001b[1;32m      1\u001b[0m \u001b[0mplt\u001b[0m\u001b[0;34m.\u001b[0m\u001b[0mfigure\u001b[0m\u001b[0;34m(\u001b[0m\u001b[0mfigsize\u001b[0m\u001b[0;34m=\u001b[0m\u001b[0;34m(\u001b[0m\u001b[0;36m10\u001b[0m\u001b[0;34m,\u001b[0m \u001b[0;36m6\u001b[0m\u001b[0;34m)\u001b[0m\u001b[0;34m)\u001b[0m\u001b[0;34m\u001b[0m\u001b[0;34m\u001b[0m\u001b[0m\n\u001b[0;32m----> 2\u001b[0;31m \u001b[0msns\u001b[0m\u001b[0;34m.\u001b[0m\u001b[0mheatmap\u001b[0m\u001b[0;34m(\u001b[0m\u001b[0mx\u001b[0m\u001b[0;34m=\u001b[0m\u001b[0;34m'purpose_scrubbed'\u001b[0m \u001b[0;34m,\u001b[0m \u001b[0my\u001b[0m\u001b[0;34m=\u001b[0m\u001b[0;34m'amount'\u001b[0m \u001b[0;34m,\u001b[0m \u001b[0mdata\u001b[0m\u001b[0;34m=\u001b[0m\u001b[0mdf_wo_travel\u001b[0m\u001b[0;34m,\u001b[0m \u001b[0mcolor\u001b[0m\u001b[0;34m=\u001b[0m\u001b[0;34m'rebeccapurple'\u001b[0m\u001b[0;34m)\u001b[0m\u001b[0;34m\u001b[0m\u001b[0;34m\u001b[0m\u001b[0m\n\u001b[0m\u001b[1;32m      3\u001b[0m \u001b[0;34m\u001b[0m\u001b[0m\n\u001b[1;32m      4\u001b[0m \u001b[0;34m\u001b[0m\u001b[0m\n",
      "\u001b[0;32m~/opt/anaconda3/envs/learn-env/lib/python3.6/site-packages/seaborn/matrix.py\u001b[0m in \u001b[0;36mheatmap\u001b[0;34m(data, vmin, vmax, cmap, center, robust, annot, fmt, annot_kws, linewidths, linecolor, cbar, cbar_kws, cbar_ax, square, xticklabels, yticklabels, mask, ax, **kwargs)\u001b[0m\n\u001b[1;32m    515\u001b[0m     plotter = _HeatMapper(data, vmin, vmax, cmap, center, robust, annot, fmt,\n\u001b[1;32m    516\u001b[0m                           \u001b[0mannot_kws\u001b[0m\u001b[0;34m,\u001b[0m \u001b[0mcbar\u001b[0m\u001b[0;34m,\u001b[0m \u001b[0mcbar_kws\u001b[0m\u001b[0;34m,\u001b[0m \u001b[0mxticklabels\u001b[0m\u001b[0;34m,\u001b[0m\u001b[0;34m\u001b[0m\u001b[0;34m\u001b[0m\u001b[0m\n\u001b[0;32m--> 517\u001b[0;31m                           yticklabels, mask)\n\u001b[0m\u001b[1;32m    518\u001b[0m \u001b[0;34m\u001b[0m\u001b[0m\n\u001b[1;32m    519\u001b[0m     \u001b[0;31m# Add the pcolormesh kwargs here\u001b[0m\u001b[0;34m\u001b[0m\u001b[0;34m\u001b[0m\u001b[0;34m\u001b[0m\u001b[0m\n",
      "\u001b[0;32m~/opt/anaconda3/envs/learn-env/lib/python3.6/site-packages/seaborn/matrix.py\u001b[0m in \u001b[0;36m__init__\u001b[0;34m(self, data, vmin, vmax, cmap, center, robust, annot, fmt, annot_kws, cbar, cbar_kws, xticklabels, yticklabels, mask)\u001b[0m\n\u001b[1;32m    165\u001b[0m         \u001b[0;31m# Determine good default values for the colormapping\u001b[0m\u001b[0;34m\u001b[0m\u001b[0;34m\u001b[0m\u001b[0;34m\u001b[0m\u001b[0m\n\u001b[1;32m    166\u001b[0m         self._determine_cmap_params(plot_data, vmin, vmax,\n\u001b[0;32m--> 167\u001b[0;31m                                     cmap, center, robust)\n\u001b[0m\u001b[1;32m    168\u001b[0m \u001b[0;34m\u001b[0m\u001b[0m\n\u001b[1;32m    169\u001b[0m         \u001b[0;31m# Sort out the annotations\u001b[0m\u001b[0;34m\u001b[0m\u001b[0;34m\u001b[0m\u001b[0;34m\u001b[0m\u001b[0m\n",
      "\u001b[0;32m~/opt/anaconda3/envs/learn-env/lib/python3.6/site-packages/seaborn/matrix.py\u001b[0m in \u001b[0;36m_determine_cmap_params\u001b[0;34m(self, plot_data, vmin, vmax, cmap, center, robust)\u001b[0m\n\u001b[1;32m    202\u001b[0m                                cmap, center, robust):\n\u001b[1;32m    203\u001b[0m         \u001b[0;34m\"\"\"Use some heuristics to set good defaults for colorbar and range.\"\"\"\u001b[0m\u001b[0;34m\u001b[0m\u001b[0;34m\u001b[0m\u001b[0m\n\u001b[0;32m--> 204\u001b[0;31m         \u001b[0mcalc_data\u001b[0m \u001b[0;34m=\u001b[0m \u001b[0mplot_data\u001b[0m\u001b[0;34m.\u001b[0m\u001b[0mdata\u001b[0m\u001b[0;34m[\u001b[0m\u001b[0;34m~\u001b[0m\u001b[0mnp\u001b[0m\u001b[0;34m.\u001b[0m\u001b[0misnan\u001b[0m\u001b[0;34m(\u001b[0m\u001b[0mplot_data\u001b[0m\u001b[0;34m.\u001b[0m\u001b[0mdata\u001b[0m\u001b[0;34m)\u001b[0m\u001b[0;34m]\u001b[0m\u001b[0;34m\u001b[0m\u001b[0;34m\u001b[0m\u001b[0m\n\u001b[0m\u001b[1;32m    205\u001b[0m         \u001b[0;32mif\u001b[0m \u001b[0mvmin\u001b[0m \u001b[0;32mis\u001b[0m \u001b[0;32mNone\u001b[0m\u001b[0;34m:\u001b[0m\u001b[0;34m\u001b[0m\u001b[0;34m\u001b[0m\u001b[0m\n\u001b[1;32m    206\u001b[0m             \u001b[0mvmin\u001b[0m \u001b[0;34m=\u001b[0m \u001b[0mnp\u001b[0m\u001b[0;34m.\u001b[0m\u001b[0mpercentile\u001b[0m\u001b[0;34m(\u001b[0m\u001b[0mcalc_data\u001b[0m\u001b[0;34m,\u001b[0m \u001b[0;36m2\u001b[0m\u001b[0;34m)\u001b[0m \u001b[0;32mif\u001b[0m \u001b[0mrobust\u001b[0m \u001b[0;32melse\u001b[0m \u001b[0mcalc_data\u001b[0m\u001b[0;34m.\u001b[0m\u001b[0mmin\u001b[0m\u001b[0;34m(\u001b[0m\u001b[0;34m)\u001b[0m\u001b[0;34m\u001b[0m\u001b[0;34m\u001b[0m\u001b[0m\n",
      "\u001b[0;31mTypeError\u001b[0m: ufunc 'isnan' not supported for the input types, and the inputs could not be safely coerced to any supported types according to the casting rule ''safe''"
     ]
    },
    {
     "data": {
      "text/plain": [
       "<Figure size 720x432 with 0 Axes>"
      ]
     },
     "metadata": {},
     "output_type": "display_data"
    }
   ],
   "source": [
    "\n"
   ]
  },
  {
   "cell_type": "code",
   "execution_count": 18,
   "metadata": {
    "scrolled": true
   },
   "outputs": [
    {
     "data": {
      "text/plain": [
       "<matplotlib.axes._subplots.AxesSubplot at 0x1a248be438>"
      ]
     },
     "execution_count": 18,
     "metadata": {},
     "output_type": "execute_result"
    },
    {
     "data": {
      "image/png": "[encoded data removed]",
      "text/plain": [
       "<Figure size 720x432 with 1 Axes>"
      ]
     },
     "metadata": {
      "needs_background": "light"
     },
     "output_type": "display_data"
    }
   ],
   "source": [
    "plt.figure(figsize=(10, 6))\n",
    "sns.barplot(x='purpose_scrubbed' , y='amount' , data=df_wo_travel, ci=None, color='rebeccapurple')\n",
    "\n"
   ]
  },
  {
   "cell_type": "code",
   "execution_count": 15,
   "metadata": {},
   "outputs": [
    {
     "data": {
      "text/plain": [
       "<matplotlib.axes._subplots.AxesSubplot at 0x1a2550af60>"
      ]
     },
     "execution_count": 15,
     "metadata": {},
     "output_type": "execute_result"
    },
    {
     "data": {
      "image/png": "[encoded data removed]",
      "text/plain": [
       "<Figure size 720x432 with 1 Axes>"
      ]
     },
     "metadata": {
      "needs_background": "light"
     },
     "output_type": "display_data"
    }
   ],
   "source": [
    "plt.figure(figsize=(10, 6))\n",
    "sns.barplot(x='purpose_scrubbed' , y='amount' , data=df, ci=None, color='rebeccapurple')\n"
   ]
  },
  {
   "cell_type": "code",
   "execution_count": 22,
   "metadata": {},
   "outputs": [
    {
     "data": {
      "text/plain": [
       "0   2016-04-01\n",
       "1   2016-04-01\n",
       "2   2017-04-01\n",
       "3   2017-04-01\n",
       "4   2017-04-10\n",
       "Name: date, dtype: datetime64[ns]"
      ]
     },
     "execution_count": 22,
     "metadata": {},
     "output_type": "execute_result"
    }
   ],
   "source": [
    "pd.to_datetime(df.date.head())"
   ]
  },
  {
   "cell_type": "code",
   "execution_count": 24,
   "metadata": {},
   "outputs": [],
   "source": [
    "df.date = pd.to_datetime(df.date)"
   ]
  },
  {
   "cell_type": "code",
   "execution_count": 32,
   "metadata": {},
   "outputs": [
    {
     "data": {
      "text/plain": [
       "[(735234.0, 737060.0)]"
      ]
     },
     "execution_count": 32,
     "metadata": {},
     "output_type": "execute_result"
    },
    {
     "data": {
      "image/png": "[encoded data removed]",
      "text/plain": [
       "<Figure size 720x432 with 1 Axes>"
      ]
     },
     "metadata": {
      "needs_background": "light"
     },
     "output_type": "display_data"
    }
   ],
   "source": [
    "sns.set_palette('husl')\n",
    "plt.figure(figsize=(10, 6))\n",
    "g = sns.scatterplot(x='date' , y='amount' , data=df, hue='purpose_scrubbed')\n",
    "g.set(xlim= ('2014-01-01', '2019-01-01'))\n",
    "\n",
    "\n"
   ]
  },
  {
   "cell_type": "code",
   "execution_count": null,
   "metadata": {},
   "outputs": [],
   "source": []
  },
  {
   "cell_type": "code",
   "execution_count": null,
   "metadata": {},
   "outputs": [],
   "source": []
  },
  {
   "cell_type": "code",
   "execution_count": null,
   "metadata": {},
   "outputs": [],
   "source": [
    "# import the library\n",
    "import folium\n",
    "import pandas as pd\n",
    " \n",
    "# Make a data frame with dots to show on the map\n",
    "data = pd.DataFrame({\n",
    "   'lat':[-58, 2, 145, 30.32, -4.03, -73.57, 36.82, -38.5],\n",
    "   'lon':[-34, 49, -38, 59.93, 5.33, 45.52, -1.29, -12.97],\n",
    "   'name':['Buenos Aires', 'Paris', 'melbourne', 'St Petersbourg', 'Abidjan', 'Montreal', 'Nairobi', 'Salvador'],\n",
    "   'value':[10,12,40,70,23,43,100,43]\n",
    "})\n",
    "data\n",
    " \n",
    "# Make an empty map\n",
    "m = folium.Map(location=[20,0], tiles=\"Mapbox Bright\", zoom_start=2)\n",
    " \n",
    "# I can add marker one by one on the map\n",
    "for i in range(0,len(data)):\n",
    "   folium.Circle(\n",
    "      location=[data.iloc[i]['lon'], data.iloc[i]['lat']],\n",
    "      popup=data.iloc[i]['name'],\n",
    "      radius=data.iloc[i]['value']*10000,\n",
    "      color='crimson',\n",
    "      fill=True,\n",
    "      fill_color='crimson'\n",
    "   ).add_to(m)\n",
    " \n",
    "# Save it as html\n",
    "m.save('mymap.html')\n"
   ]
  },
  {
   "cell_type": "code",
   "execution_count": null,
   "metadata": {},
   "outputs": [],
   "source": []
  },
  {
   "cell_type": "code",
   "execution_count": null,
   "metadata": {},
   "outputs": [],
   "source": []
  }
 ],
 "metadata": {
  "kernelspec": {
   "display_name": "Python 3",
   "language": "python",
   "name": "python3"
  },
  "language_info": {
   "codemirror_mode": {
    "name": "ipython",
    "version": 3
   },
   "file_extension": ".py",
   "mimetype": "text/x-python",
   "name": "python",
   "nbconvert_exporter": "python",
   "pygments_lexer": "ipython3",
   "version": "3.6.9"
  }
 },
 "nbformat": 4,
 "nbformat_minor": 2
}
